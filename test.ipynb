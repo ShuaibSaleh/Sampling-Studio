{
 "cells": [
  {
   "cell_type": "code",
   "execution_count": 8,
   "metadata": {},
   "outputs": [
    {
     "name": "stdout",
     "output_type": "stream",
     "text": [
      "First [[ 0.09762701  0.43037873]\n",
      " [ 0.20552675  0.08976637]\n",
      " [-0.1526904   0.29178823]\n",
      " [-0.12482558  0.783546  ]\n",
      " [ 0.92732552 -0.23311696]\n",
      " [ 0.58345008  0.05778984]\n",
      " [ 0.13608912  0.85119328]\n",
      " [-0.85792788 -0.8257414 ]\n",
      " [-0.95956321  0.66523969]\n",
      " [ 0.5563135   0.7400243 ]]\n",
      "Second [[ 0.95723668  0.59831713]\n",
      " [-0.07704128  0.56105835]\n",
      " [-0.76345115  0.27984204]\n",
      " [-0.71329343  0.88933783]\n",
      " [ 0.04369664 -0.17067612]]\n"
     ]
    }
   ],
   "source": [
    "import numpy as np\n",
    "import matplotlib.pyplot as plt\n",
    "import random\n",
    "\n",
    "rng = np.random.RandomState(0)\n",
    "X_p=rng.uniform(-1,1,size=10)\n",
    "X_n=rng.uniform(-1,1,size=5)\n",
    "\n",
    "print(\"First\",X_p)\n",
    "print(\"Second\",X_n)"
   ]
  }
 ],
 "metadata": {
  "kernelspec": {
   "display_name": "Python 3.10.7 64-bit",
   "language": "python",
   "name": "python3"
  },
  "language_info": {
   "codemirror_mode": {
    "name": "ipython",
    "version": 3
   },
   "file_extension": ".py",
   "mimetype": "text/x-python",
   "name": "python",
   "nbconvert_exporter": "python",
   "pygments_lexer": "ipython3",
   "version": "3.10.7"
  },
  "orig_nbformat": 4,
  "vscode": {
   "interpreter": {
    "hash": "29edd38d60bd02d20e40c6258c8b15c074573424acc389222672ddff5b52b2a3"
   }
  }
 },
 "nbformat": 4,
 "nbformat_minor": 2
}
